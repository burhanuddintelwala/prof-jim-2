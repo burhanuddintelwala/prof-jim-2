{
 "cells": [
  {
   "cell_type": "code",
   "execution_count": 2,
   "metadata": {},
   "outputs": [],
   "source": [
    "from tensorflow.keras.models import load_model"
   ]
  },
  {
   "cell_type": "code",
   "execution_count": 3,
   "metadata": {},
   "outputs": [
    {
     "name": "stdout",
     "output_type": "stream",
     "text": [
      "\u001b[1m1/1\u001b[0m \u001b[32m━━━━━━━━━━━━━━━━━━━━\u001b[0m\u001b[37m\u001b[0m \u001b[1m0s\u001b[0m 281ms/step\n",
      "\u001b[1m1/1\u001b[0m \u001b[32m━━━━━━━━━━━━━━━━━━━━\u001b[0m\u001b[37m\u001b[0m \u001b[1m0s\u001b[0m 51ms/step\n",
      "\u001b[1m1/1\u001b[0m \u001b[32m━━━━━━━━━━━━━━━━━━━━\u001b[0m\u001b[37m\u001b[0m \u001b[1m0s\u001b[0m 61ms/step\n",
      "\u001b[1m1/1\u001b[0m \u001b[32m━━━━━━━━━━━━━━━━━━━━\u001b[0m\u001b[37m\u001b[0m \u001b[1m0s\u001b[0m 43ms/step\n",
      "\u001b[1m1/1\u001b[0m \u001b[32m━━━━━━━━━━━━━━━━━━━━\u001b[0m\u001b[37m\u001b[0m \u001b[1m0s\u001b[0m 41ms/step\n",
      "\u001b[1m1/1\u001b[0m \u001b[32m━━━━━━━━━━━━━━━━━━━━\u001b[0m\u001b[37m\u001b[0m \u001b[1m0s\u001b[0m 44ms/step\n",
      "\u001b[1m1/1\u001b[0m \u001b[32m━━━━━━━━━━━━━━━━━━━━\u001b[0m\u001b[37m\u001b[0m \u001b[1m0s\u001b[0m 33ms/step\n",
      "\u001b[1m1/1\u001b[0m \u001b[32m━━━━━━━━━━━━━━━━━━━━\u001b[0m\u001b[37m\u001b[0m \u001b[1m0s\u001b[0m 44ms/step\n",
      "\u001b[1m1/1\u001b[0m \u001b[32m━━━━━━━━━━━━━━━━━━━━\u001b[0m\u001b[37m\u001b[0m \u001b[1m0s\u001b[0m 33ms/step\n",
      "\u001b[1m1/1\u001b[0m \u001b[32m━━━━━━━━━━━━━━━━━━━━\u001b[0m\u001b[37m\u001b[0m \u001b[1m0s\u001b[0m 66ms/step\n",
      "\u001b[1m1/1\u001b[0m \u001b[32m━━━━━━━━━━━━━━━━━━━━\u001b[0m\u001b[37m\u001b[0m \u001b[1m0s\u001b[0m 40ms/step\n",
      "\u001b[1m1/1\u001b[0m \u001b[32m━━━━━━━━━━━━━━━━━━━━\u001b[0m\u001b[37m\u001b[0m \u001b[1m0s\u001b[0m 27ms/step\n",
      "\u001b[1m1/1\u001b[0m \u001b[32m━━━━━━━━━━━━━━━━━━━━\u001b[0m\u001b[37m\u001b[0m \u001b[1m0s\u001b[0m 34ms/step\n",
      "happy woman in red dress is standing in front of the camera\n"
     ]
    }
   ],
   "source": [
    "import numpy as np\n",
    "import pandas as pd\n",
    "import os\n",
    "from keras.preprocessing.image import load_img, img_to_array\n",
    "from keras.applications.densenet import DenseNet201\n",
    "from keras.models import Model\n",
    "from keras.preprocessing.sequence import pad_sequences\n",
    "import pickle\n",
    "\n",
    "# Load the model\n",
    "caption_model = load_model(r\"C:\\Users\\08bur\\OneDrive\\Desktop\\submission-2\\saved_model.keras\")\n",
    "\n",
    "# Load the tokenizer\n",
    "with open(r\"C:\\Users\\08bur\\OneDrive\\Desktop\\submission-2\\tokenizer_2.pkl\", 'rb') as f:\n",
    "    tokenizer = pickle.load(f)\n",
    "\n",
    "max_length = 35  # Define your max_length here\n",
    "\n",
    "# Function to extract image features using DenseNet\n",
    "def extract_image_features(image_path, model):\n",
    "    img = load_img(image_path, target_size=(224, 224))  # Resize image to match model input\n",
    "    img = img_to_array(img) / 255.0  # Normalize the image\n",
    "    img = np.expand_dims(img, axis=0)  # Expand dimensions to fit model input\n",
    "    feature = model.predict(img, verbose=0)  # Get features from the model\n",
    "    return feature\n",
    "\n",
    "# Function to convert integer back to word using the tokenizer\n",
    "def idx_to_word(integer, tokenizer):\n",
    "    for word, index in tokenizer.word_index.items():\n",
    "        if index == integer:\n",
    "            return word\n",
    "    return None\n",
    "\n",
    "# Function to predict caption for a given image\n",
    "def predict_caption(image_path):\n",
    "    # Load the DenseNet model for feature extraction\n",
    "    densenet_model = DenseNet201()\n",
    "    feature_extraction_model = Model(inputs=densenet_model.input, outputs=densenet_model.layers[-2].output)\n",
    "    \n",
    "    # Extract features from the image\n",
    "    feature = extract_image_features(image_path, feature_extraction_model)\n",
    "\n",
    "    # Initialize the caption generation\n",
    "    in_text = \"startseq\"\n",
    "    for i in range(max_length):\n",
    "        sequence = tokenizer.texts_to_sequences([in_text])[0]\n",
    "        sequence = pad_sequences([sequence], maxlen=max_length)  # Note: changed to 'maxlen'\n",
    "\n",
    "        # Predict the next word\n",
    "        y_pred = caption_model.predict([feature, sequence])\n",
    "        y_pred = np.argmax(y_pred)\n",
    "\n",
    "        # Convert the predicted integer to a word\n",
    "        word = idx_to_word(y_pred, tokenizer)\n",
    "\n",
    "        if word is None:\n",
    "            break\n",
    "            \n",
    "        in_text += \" \" + word\n",
    "        \n",
    "        if word == 'endseq':\n",
    "            break\n",
    "            \n",
    "    return in_text.replace(\"startseq\", \"\").replace(\"endseq\", \"\").strip()  # Clean the output caption\n",
    "\n",
    "# Example usage\n",
    "image_path = r'C:\\Users\\08bur\\OneDrive\\Desktop\\Prof Jim 2\\input\\flickr8k\\Images\\130211457_be3f6b335d.jpg'  # Replace with your image path\n",
    "predicted_caption = predict_caption(image_path)\n",
    "print(predicted_caption)\n"
   ]
  }
 ],
 "metadata": {
  "kernelspec": {
   "display_name": "base",
   "language": "python",
   "name": "python3"
  },
  "language_info": {
   "codemirror_mode": {
    "name": "ipython",
    "version": 3
   },
   "file_extension": ".py",
   "mimetype": "text/x-python",
   "name": "python",
   "nbconvert_exporter": "python",
   "pygments_lexer": "ipython3",
   "version": "3.12.4"
  }
 },
 "nbformat": 4,
 "nbformat_minor": 2
}
